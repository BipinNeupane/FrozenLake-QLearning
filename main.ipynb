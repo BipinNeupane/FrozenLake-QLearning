{
 "cells": [
  {
   "cell_type": "markdown",
   "id": "9c65d5ee",
   "metadata": {},
   "source": [
    "Importing Libraries"
   ]
  },
  {
   "cell_type": "code",
   "execution_count": 646,
   "id": "14183651",
   "metadata": {},
   "outputs": [],
   "source": [
    "# open-ai gym\n",
    "import gymnasium\n",
    "import numpy as np\n",
    "import random as random\n",
    "import time"
   ]
  },
  {
   "cell_type": "code",
   "execution_count": 647,
   "id": "aaaabec6",
   "metadata": {},
   "outputs": [
    {
     "name": "stdout",
     "output_type": "stream",
     "text": [
      "\n",
      "\u001b[41mS\u001b[0mFFF\n",
      "FHFH\n",
      "FFFH\n",
      "HFFG\n",
      "\n"
     ]
    }
   ],
   "source": [
    "environment = gymnasium.make(\"FrozenLake-v1\", is_slippery=False,render_mode='ansi')\n",
    "observationhaki = environment.reset()\n",
    "print(environment.render())"
   ]
  },
  {
   "cell_type": "code",
   "execution_count": 648,
   "id": "8f93deec",
   "metadata": {},
   "outputs": [
    {
     "name": "stdout",
     "output_type": "stream",
     "text": [
      "Q-table =\n",
      "[[0. 0. 0. 0.]\n",
      " [0. 0. 0. 0.]\n",
      " [0. 0. 0. 0.]\n",
      " [0. 0. 0. 0.]\n",
      " [0. 0. 0. 0.]\n",
      " [0. 0. 0. 0.]\n",
      " [0. 0. 0. 0.]\n",
      " [0. 0. 0. 0.]\n",
      " [0. 0. 0. 0.]\n",
      " [0. 0. 0. 0.]\n",
      " [0. 0. 0. 0.]\n",
      " [0. 0. 0. 0.]\n",
      " [0. 0. 0. 0.]\n",
      " [0. 0. 0. 0.]\n",
      " [0. 0. 0. 0.]\n",
      " [0. 0. 0. 0.]]\n"
     ]
    }
   ],
   "source": [
    "nb_states = environment.observation_space.n\n",
    "nb_actions = environment.action_space.n\n",
    "qtable = np.zeros((nb_states, nb_actions))\n",
    "\n",
    "# Let's see how q-table has been formed\n",
    "print('Q-table =')\n",
    "print(qtable)"
   ]
  },
  {
   "cell_type": "code",
   "execution_count": 649,
   "id": "3f4ed4bb",
   "metadata": {},
   "outputs": [
    {
     "name": "stdout",
     "output_type": "stream",
     "text": [
      "  (Left)\n",
      "\u001b[41mS\u001b[0mFFF\n",
      "FHFH\n",
      "FFFH\n",
      "HFFG\n",
      "\n"
     ]
    }
   ],
   "source": [
    "# random step\n",
    "action_space = ['Left','Down','Right','Up']\n",
    "step = random.choice([0,1,2,3])\n",
    "# or we can use the gymnasium's api for action step\n",
    "action = environment.action_space.sample()\n",
    "\n",
    "# move my agent\n",
    "environment.step(action)\n",
    "print(environment.render())"
   ]
  },
  {
   "cell_type": "code",
   "execution_count": 650,
   "id": "de7ae0ce",
   "metadata": {},
   "outputs": [
    {
     "name": "stdout",
     "output_type": "stream",
     "text": [
      "  (Right)\n",
      "S\u001b[41mF\u001b[0mFF\n",
      "FHFH\n",
      "FFFH\n",
      "HFFG\n",
      "\n"
     ]
    }
   ],
   "source": [
    "new_state, reward, terminated, truncated, info = environment.step(2)\n",
    "print(environment.render())"
   ]
  },
  {
   "cell_type": "code",
   "execution_count": 651,
   "id": "d851e9da",
   "metadata": {},
   "outputs": [
    {
     "data": {
      "text/plain": [
       "(0, {'prob': 1})"
      ]
     },
     "execution_count": 651,
     "metadata": {},
     "output_type": "execute_result"
    }
   ],
   "source": [
    "state = environment.reset()\n",
    "state"
   ]
  },
  {
   "cell_type": "code",
   "execution_count": 652,
   "id": "fc2c7619",
   "metadata": {},
   "outputs": [],
   "source": [
    "episodes = 1000\n",
    "learning_rate = 0.5 # For learning more on new values rather than old ones\n",
    "discount = 0.6 # To focus on more future reward since there is only one reward at the end\n",
    "sequence = []\n",
    "\n",
    "for _ in range(episodes):\n",
    "    state, _ = environment.reset()\n",
    "    done = False\n",
    "\n",
    "    while not done:\n",
    "        \n",
    "        if np.argmax(qtable[state]) > 0:\n",
    "            action = np.argmax(qtable[state])\n",
    "        else:\n",
    "            action = environment.action_space.sample()\n",
    "        \n",
    "        sequence.append(action)\n",
    "\n",
    "        new_state, reward, done,truncated, info = environment.step(action=action)\n",
    "\n",
    "        # Formula for updating q-table\n",
    "        qtable[state, action] = qtable[state, action] + learning_rate * (reward + discount * np.max(qtable[new_state]) - qtable[state, action])\n",
    "\n",
    "        state = new_state\n"
   ]
  },
  {
   "cell_type": "markdown",
   "id": "c9501839",
   "metadata": {},
   "source": [
    "The agent can complete the game without touching any obstacles "
   ]
  },
  {
   "cell_type": "code",
   "execution_count": 653,
   "id": "2b7b7292",
   "metadata": {},
   "outputs": [
    {
     "name": "stdout",
     "output_type": "stream",
     "text": [
      "  (Right)\n",
      "SFFF\n",
      "FHFH\n",
      "FFFH\n",
      "HFF\u001b[41mG\u001b[0m\n",
      "\n"
     ]
    }
   ],
   "source": [
    "print(environment.render())"
   ]
  },
  {
   "cell_type": "code",
   "execution_count": 654,
   "id": "e223e878",
   "metadata": {},
   "outputs": [
    {
     "name": "stdout",
     "output_type": "stream",
     "text": [
      "['Left', 'Down', 'Right', 'Up']\n"
     ]
    }
   ],
   "source": [
    "print(action_space)"
   ]
  }
 ],
 "metadata": {
  "kernelspec": {
   "display_name": "venv",
   "language": "python",
   "name": "python3"
  },
  "language_info": {
   "codemirror_mode": {
    "name": "ipython",
    "version": 3
   },
   "file_extension": ".py",
   "mimetype": "text/x-python",
   "name": "python",
   "nbconvert_exporter": "python",
   "pygments_lexer": "ipython3",
   "version": "3.10.12"
  }
 },
 "nbformat": 4,
 "nbformat_minor": 5
}
