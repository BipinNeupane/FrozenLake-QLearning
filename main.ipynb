{
 "cells": [
  {
   "cell_type": "markdown",
   "id": "9c65d5ee",
   "metadata": {},
   "source": [
    "Importing Libraries"
   ]
  },
  {
   "cell_type": "code",
   "execution_count": 253,
   "id": "14183651",
   "metadata": {},
   "outputs": [],
   "source": [
    "# open-ai gym\n",
    "import gymnasium\n",
    "import numpy as np\n",
    "import random as random"
   ]
  },
  {
   "cell_type": "code",
   "execution_count": 254,
   "id": "aaaabec6",
   "metadata": {},
   "outputs": [
    {
     "name": "stdout",
     "output_type": "stream",
     "text": [
      "\n",
      "\u001b[41mS\u001b[0mFFF\n",
      "FHFH\n",
      "FFFH\n",
      "HFFG\n",
      "\n"
     ]
    }
   ],
   "source": [
    "environment = gymnasium.make(\"FrozenLake-v1\", is_slippery=False,render_mode='ansi')\n",
    "observationhaki = environment.reset()\n",
    "print(environment.render())"
   ]
  },
  {
   "cell_type": "code",
   "execution_count": 255,
   "id": "8f93deec",
   "metadata": {},
   "outputs": [
    {
     "name": "stdout",
     "output_type": "stream",
     "text": [
      "Q-table =\n",
      "[[0. 0. 0. 0.]\n",
      " [0. 0. 0. 0.]\n",
      " [0. 0. 0. 0.]\n",
      " [0. 0. 0. 0.]\n",
      " [0. 0. 0. 0.]\n",
      " [0. 0. 0. 0.]\n",
      " [0. 0. 0. 0.]\n",
      " [0. 0. 0. 0.]\n",
      " [0. 0. 0. 0.]\n",
      " [0. 0. 0. 0.]\n",
      " [0. 0. 0. 0.]\n",
      " [0. 0. 0. 0.]\n",
      " [0. 0. 0. 0.]\n",
      " [0. 0. 0. 0.]\n",
      " [0. 0. 0. 0.]\n",
      " [0. 0. 0. 0.]]\n"
     ]
    }
   ],
   "source": [
    "nb_states = environment.observation_space.n\n",
    "nb_actions = environment.action_space.n\n",
    "qtable = np.zeros((nb_states, nb_actions))\n",
    "\n",
    "# Let's see how q-table has been formed\n",
    "print('Q-table =')\n",
    "print(qtable)"
   ]
  },
  {
   "cell_type": "code",
   "execution_count": 256,
   "id": "3f4ed4bb",
   "metadata": {},
   "outputs": [
    {
     "name": "stdout",
     "output_type": "stream",
     "text": [
      "  (Up)\n",
      "\u001b[41mS\u001b[0mFFF\n",
      "FHFH\n",
      "FFFH\n",
      "HFFG\n",
      "\n"
     ]
    }
   ],
   "source": [
    "# random step\n",
    "step = random.choice([0,1,2,3])\n",
    "# or we can use the gymnasium's api for action step\n",
    "action = environment.action_space.sample()\n",
    "\n",
    "# move my agent\n",
    "environment.step(action)\n",
    "print(environment.render())"
   ]
  },
  {
   "cell_type": "code",
   "execution_count": 273,
   "id": "de7ae0ce",
   "metadata": {},
   "outputs": [
    {
     "name": "stdout",
     "output_type": "stream",
     "text": [
      "  (Right)\n",
      "SFFF\n",
      "FHFH\n",
      "FFFH\n",
      "HFF\u001b[41mG\u001b[0m\n",
      "\n"
     ]
    }
   ],
   "source": [
    "new_state, reward, terminated, truncated, info = environment.step(2)\n",
    "print(environment.render())"
   ]
  },
  {
   "cell_type": "code",
   "execution_count": 275,
   "id": "fc2c7619",
   "metadata": {},
   "outputs": [
    {
     "data": {
      "text/plain": [
       "{'prob': 1.0}"
      ]
     },
     "execution_count": 275,
     "metadata": {},
     "output_type": "execute_result"
    }
   ],
   "source": [
    "info"
   ]
  }
 ],
 "metadata": {
  "kernelspec": {
   "display_name": "venv",
   "language": "python",
   "name": "python3"
  },
  "language_info": {
   "codemirror_mode": {
    "name": "ipython",
    "version": 3
   },
   "file_extension": ".py",
   "mimetype": "text/x-python",
   "name": "python",
   "nbconvert_exporter": "python",
   "pygments_lexer": "ipython3",
   "version": "3.10.12"
  }
 },
 "nbformat": 4,
 "nbformat_minor": 5
}
